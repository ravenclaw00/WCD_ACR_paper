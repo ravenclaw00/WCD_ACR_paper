{
 "cells": [
  {
   "cell_type": "markdown",
   "metadata": {
    "slideshow": {
     "slide_type": "slide"
    }
   },
   "source": [
    "# The one-dimensional energy balance model\n",
    "\n",
    "This notebook is heavily based on [Lecture 19](https://brian-rose.github.io/ClimateLaboratoryBook/courseware/heat-transport.html) and [Lecture 20](https://brian-rose.github.io/ClimateLaboratoryBook/courseware/one-dim-ebm.html) of [The Climate Laboratory](https://brian-rose.github.io/ClimateLaboratoryBook) by [Brian E. J. Rose](http://www.atmos.albany.edu/facstaff/brose/index.html), University at Albany."
   ]
  },
  {
   "cell_type": "markdown",
   "metadata": {},
   "source": [
    "**Recap:** So far we discussed \n",
    " - 0-dimensional Energy Balance Models\n",
    " - elementary Greenhouse Models (with 1 and 2 atmospheric layers)\n",
    " \n",
    "These models did not include any horizontal extent and resolution, which were represented by an _averaged single point mass_ instead. Today we are extending the 0-dimensional EBM by one horizontal dimension: *latitue* (north <-> south)."
   ]
  },
  {
   "cell_type": "markdown",
   "metadata": {},
   "source": [
    "____________\n",
    "<a id='section1'></a>\n",
    "\n",
    "## 1. Spatial patterns of insolation and surface temperature\n",
    "____________\n",
    "\n",
    "Let's take a look at _seasonal and spatial pattern of insolation_ and compare this to the _zonal average surface temperatures_.\n",
    "\n",
    "Climlab has a very handy routine to compute the daily average insolation pattern for each latitute and day per year. If you want to know more on how climlab does this computation, have a look at the [documentation](https://climlab.readthedocs.io/en/latest/api/climlab.radiation.insolation.html#climlab.radiation.insolation.DailyInsolation).\n",
    "\n",
    "For the zonal average surface temperatures, we use the [NCEP reanalysis data](https://psl.noaa.gov/data/gridded/data.ncep.reanalysis.html), as in the last notebook."
   ]
  },
  {
   "cell_type": "code",
   "execution_count": 4,
   "metadata": {},
   "outputs": [
    {
     "ename": "AttributeError",
     "evalue": "'TlzSpec' object has no attribute '_uninitialized_submodules'",
     "output_type": "error",
     "traceback": [
      "\u001b[1;31m---------------------------------------------------------------------------\u001b[0m",
      "\u001b[1;31mAttributeError\u001b[0m                            Traceback (most recent call last)",
      "\u001b[1;32m~\\AppData\\Local\\Temp\\ipykernel_8340\\510283241.py\u001b[0m in \u001b[0;36m<cell line: 0>\u001b[1;34m()\u001b[0m\n\u001b[0;32m      2\u001b[0m \u001b[1;32mimport\u001b[0m \u001b[0mnumpy\u001b[0m \u001b[1;32mas\u001b[0m \u001b[0mnp\u001b[0m\u001b[1;33m\u001b[0m\u001b[1;33m\u001b[0m\u001b[0m\n\u001b[0;32m      3\u001b[0m \u001b[1;32mimport\u001b[0m \u001b[0mmatplotlib\u001b[0m\u001b[1;33m.\u001b[0m\u001b[0mpyplot\u001b[0m \u001b[1;32mas\u001b[0m \u001b[0mplt\u001b[0m\u001b[1;33m\u001b[0m\u001b[1;33m\u001b[0m\u001b[0m\n\u001b[1;32m----> 4\u001b[1;33m \u001b[1;32mimport\u001b[0m \u001b[0mxarray\u001b[0m \u001b[1;32mas\u001b[0m \u001b[0mxr\u001b[0m\u001b[1;33m\u001b[0m\u001b[1;33m\u001b[0m\u001b[0m\n\u001b[0m\u001b[0;32m      5\u001b[0m \u001b[1;32mimport\u001b[0m \u001b[0mclimlab\u001b[0m\u001b[1;33m\u001b[0m\u001b[1;33m\u001b[0m\u001b[0m\n\u001b[0;32m      6\u001b[0m \u001b[1;32mfrom\u001b[0m \u001b[0mclimlab\u001b[0m \u001b[1;32mimport\u001b[0m \u001b[0mconstants\u001b[0m \u001b[1;32mas\u001b[0m \u001b[0mconst\u001b[0m\u001b[1;33m\u001b[0m\u001b[1;33m\u001b[0m\u001b[0m\n",
      "\u001b[1;32m~\\WPy64-31101\\python-3.11.0.amd64\\Lib\\site-packages\\xarray\\__init__.py\u001b[0m in \u001b[0;36m<module>\u001b[1;34m\u001b[0m\n\u001b[1;32m----> 1\u001b[1;33m \u001b[1;32mfrom\u001b[0m \u001b[1;33m.\u001b[0m \u001b[1;32mimport\u001b[0m \u001b[0mtesting\u001b[0m\u001b[1;33m,\u001b[0m \u001b[0mtutorial\u001b[0m\u001b[1;33m\u001b[0m\u001b[1;33m\u001b[0m\u001b[0m\n\u001b[0m\u001b[0;32m      2\u001b[0m from .backends.api import (\n\u001b[0;32m      3\u001b[0m     \u001b[0mload_dataarray\u001b[0m\u001b[1;33m,\u001b[0m\u001b[1;33m\u001b[0m\u001b[1;33m\u001b[0m\u001b[0m\n\u001b[0;32m      4\u001b[0m     \u001b[0mload_dataset\u001b[0m\u001b[1;33m,\u001b[0m\u001b[1;33m\u001b[0m\u001b[1;33m\u001b[0m\u001b[0m\n\u001b[0;32m      5\u001b[0m     \u001b[0mopen_dataarray\u001b[0m\u001b[1;33m,\u001b[0m\u001b[1;33m\u001b[0m\u001b[1;33m\u001b[0m\u001b[0m\n",
      "\u001b[1;32m~\\WPy64-31101\\python-3.11.0.amd64\\Lib\\site-packages\\xarray\\testing.py\u001b[0m in \u001b[0;36m<module>\u001b[1;34m\u001b[0m\n\u001b[0;32m      7\u001b[0m \u001b[1;32mimport\u001b[0m \u001b[0mpandas\u001b[0m \u001b[1;32mas\u001b[0m \u001b[0mpd\u001b[0m\u001b[1;33m\u001b[0m\u001b[1;33m\u001b[0m\u001b[0m\n\u001b[0;32m      8\u001b[0m \u001b[1;33m\u001b[0m\u001b[0m\n\u001b[1;32m----> 9\u001b[1;33m \u001b[1;32mfrom\u001b[0m \u001b[0mxarray\u001b[0m\u001b[1;33m.\u001b[0m\u001b[0mcore\u001b[0m \u001b[1;32mimport\u001b[0m \u001b[0mduck_array_ops\u001b[0m\u001b[1;33m,\u001b[0m \u001b[0mformatting\u001b[0m\u001b[1;33m,\u001b[0m \u001b[0mutils\u001b[0m\u001b[1;33m\u001b[0m\u001b[1;33m\u001b[0m\u001b[0m\n\u001b[0m\u001b[0;32m     10\u001b[0m \u001b[1;32mfrom\u001b[0m \u001b[0mxarray\u001b[0m\u001b[1;33m.\u001b[0m\u001b[0mcore\u001b[0m\u001b[1;33m.\u001b[0m\u001b[0mdataarray\u001b[0m \u001b[1;32mimport\u001b[0m \u001b[0mDataArray\u001b[0m\u001b[1;33m\u001b[0m\u001b[1;33m\u001b[0m\u001b[0m\n\u001b[0;32m     11\u001b[0m \u001b[1;32mfrom\u001b[0m \u001b[0mxarray\u001b[0m\u001b[1;33m.\u001b[0m\u001b[0mcore\u001b[0m\u001b[1;33m.\u001b[0m\u001b[0mdataset\u001b[0m \u001b[1;32mimport\u001b[0m \u001b[0mDataset\u001b[0m\u001b[1;33m\u001b[0m\u001b[1;33m\u001b[0m\u001b[0m\n",
      "\u001b[1;32m~\\WPy64-31101\\python-3.11.0.amd64\\Lib\\site-packages\\xarray\\core\\duck_array_ops.py\u001b[0m in \u001b[0;36m<module>\u001b[1;34m\u001b[0m\n\u001b[0;32m     27\u001b[0m \u001b[1;32mfrom\u001b[0m \u001b[1;33m.\u001b[0m \u001b[1;32mimport\u001b[0m \u001b[0mdask_array_ops\u001b[0m\u001b[1;33m,\u001b[0m \u001b[0mdtypes\u001b[0m\u001b[1;33m,\u001b[0m \u001b[0mnputils\u001b[0m\u001b[1;33m\u001b[0m\u001b[1;33m\u001b[0m\u001b[0m\n\u001b[0;32m     28\u001b[0m \u001b[1;32mfrom\u001b[0m \u001b[1;33m.\u001b[0m\u001b[0mnputils\u001b[0m \u001b[1;32mimport\u001b[0m \u001b[0mnanfirst\u001b[0m\u001b[1;33m,\u001b[0m \u001b[0mnanlast\u001b[0m\u001b[1;33m\u001b[0m\u001b[1;33m\u001b[0m\u001b[0m\n\u001b[1;32m---> 29\u001b[1;33m \u001b[1;32mfrom\u001b[0m \u001b[1;33m.\u001b[0m\u001b[0mpycompat\u001b[0m \u001b[1;32mimport\u001b[0m \u001b[0mcupy_array_type\u001b[0m\u001b[1;33m,\u001b[0m \u001b[0mis_duck_dask_array\u001b[0m\u001b[1;33m\u001b[0m\u001b[1;33m\u001b[0m\u001b[0m\n\u001b[0m\u001b[0;32m     30\u001b[0m \u001b[1;32mfrom\u001b[0m \u001b[1;33m.\u001b[0m\u001b[0mutils\u001b[0m \u001b[1;32mimport\u001b[0m \u001b[0mis_duck_array\u001b[0m\u001b[1;33m\u001b[0m\u001b[1;33m\u001b[0m\u001b[0m\n\u001b[0;32m     31\u001b[0m \u001b[1;33m\u001b[0m\u001b[0m\n",
      "\u001b[1;32m~\\WPy64-31101\\python-3.11.0.amd64\\Lib\\site-packages\\xarray\\core\\pycompat.py\u001b[0m in \u001b[0;36m<module>\u001b[1;34m\u001b[0m\n\u001b[0;32m     46\u001b[0m \u001b[1;33m\u001b[0m\u001b[0m\n\u001b[0;32m     47\u001b[0m \u001b[1;33m\u001b[0m\u001b[0m\n\u001b[1;32m---> 48\u001b[1;33m \u001b[0mdsk\u001b[0m \u001b[1;33m=\u001b[0m \u001b[0mDuckArrayModule\u001b[0m\u001b[1;33m(\u001b[0m\u001b[1;34m\"dask\"\u001b[0m\u001b[1;33m)\u001b[0m\u001b[1;33m\u001b[0m\u001b[1;33m\u001b[0m\u001b[0m\n\u001b[0m\u001b[0;32m     49\u001b[0m \u001b[0mdask_version\u001b[0m \u001b[1;33m=\u001b[0m \u001b[0mdsk\u001b[0m\u001b[1;33m.\u001b[0m\u001b[0mversion\u001b[0m\u001b[1;33m\u001b[0m\u001b[1;33m\u001b[0m\u001b[0m\n\u001b[0;32m     50\u001b[0m \u001b[0mdask_array_type\u001b[0m \u001b[1;33m=\u001b[0m \u001b[0mdsk\u001b[0m\u001b[1;33m.\u001b[0m\u001b[0mtype\u001b[0m\u001b[1;33m\u001b[0m\u001b[1;33m\u001b[0m\u001b[0m\n",
      "\u001b[1;32m~\\WPy64-31101\\python-3.11.0.amd64\\Lib\\site-packages\\xarray\\core\\pycompat.py\u001b[0m in \u001b[0;36m__init__\u001b[1;34m(self, mod)\u001b[0m\n\u001b[0;32m     25\u001b[0m \u001b[1;33m\u001b[0m\u001b[0m\n\u001b[0;32m     26\u001b[0m             \u001b[1;32mif\u001b[0m \u001b[0mmod\u001b[0m \u001b[1;33m==\u001b[0m \u001b[1;34m\"dask\"\u001b[0m\u001b[1;33m:\u001b[0m\u001b[1;33m\u001b[0m\u001b[1;33m\u001b[0m\u001b[0m\n\u001b[1;32m---> 27\u001b[1;33m                 \u001b[0mduck_array_type\u001b[0m \u001b[1;33m=\u001b[0m \u001b[1;33m(\u001b[0m\u001b[0mimport_module\u001b[0m\u001b[1;33m(\u001b[0m\u001b[1;34m\"dask.array\"\u001b[0m\u001b[1;33m)\u001b[0m\u001b[1;33m.\u001b[0m\u001b[0mArray\u001b[0m\u001b[1;33m,\u001b[0m\u001b[1;33m)\u001b[0m\u001b[1;33m\u001b[0m\u001b[1;33m\u001b[0m\u001b[0m\n\u001b[0m\u001b[0;32m     28\u001b[0m             \u001b[1;32melif\u001b[0m \u001b[0mmod\u001b[0m \u001b[1;33m==\u001b[0m \u001b[1;34m\"pint\"\u001b[0m\u001b[1;33m:\u001b[0m\u001b[1;33m\u001b[0m\u001b[1;33m\u001b[0m\u001b[0m\n\u001b[0;32m     29\u001b[0m                 \u001b[0mduck_array_type\u001b[0m \u001b[1;33m=\u001b[0m \u001b[1;33m(\u001b[0m\u001b[0mduck_array_module\u001b[0m\u001b[1;33m.\u001b[0m\u001b[0mQuantity\u001b[0m\u001b[1;33m,\u001b[0m\u001b[1;33m)\u001b[0m\u001b[1;33m\u001b[0m\u001b[1;33m\u001b[0m\u001b[0m\n",
      "\u001b[1;32m~\\WPy64-31101\\python-3.11.0.amd64\\Lib\\importlib\\__init__.py\u001b[0m in \u001b[0;36mimport_module\u001b[1;34m(name, package)\u001b[0m\n\u001b[0;32m    124\u001b[0m                 \u001b[1;32mbreak\u001b[0m\u001b[1;33m\u001b[0m\u001b[1;33m\u001b[0m\u001b[0m\n\u001b[0;32m    125\u001b[0m             \u001b[0mlevel\u001b[0m \u001b[1;33m+=\u001b[0m \u001b[1;36m1\u001b[0m\u001b[1;33m\u001b[0m\u001b[1;33m\u001b[0m\u001b[0m\n\u001b[1;32m--> 126\u001b[1;33m     \u001b[1;32mreturn\u001b[0m \u001b[0m_bootstrap\u001b[0m\u001b[1;33m.\u001b[0m\u001b[0m_gcd_import\u001b[0m\u001b[1;33m(\u001b[0m\u001b[0mname\u001b[0m\u001b[1;33m[\u001b[0m\u001b[0mlevel\u001b[0m\u001b[1;33m:\u001b[0m\u001b[1;33m]\u001b[0m\u001b[1;33m,\u001b[0m \u001b[0mpackage\u001b[0m\u001b[1;33m,\u001b[0m \u001b[0mlevel\u001b[0m\u001b[1;33m)\u001b[0m\u001b[1;33m\u001b[0m\u001b[1;33m\u001b[0m\u001b[0m\n\u001b[0m\u001b[0;32m    127\u001b[0m \u001b[1;33m\u001b[0m\u001b[0m\n\u001b[0;32m    128\u001b[0m \u001b[1;33m\u001b[0m\u001b[0m\n",
      "\u001b[1;32m~\\WPy64-31101\\python-3.11.0.amd64\\Lib\\site-packages\\dask\\array\\__init__.py\u001b[0m in \u001b[0;36m<module>\u001b[1;34m\u001b[0m\n\u001b[0;32m      1\u001b[0m \u001b[1;32mtry\u001b[0m\u001b[1;33m:\u001b[0m\u001b[1;33m\u001b[0m\u001b[1;33m\u001b[0m\u001b[0m\n\u001b[1;32m----> 2\u001b[1;33m     \u001b[1;32mfrom\u001b[0m \u001b[0mdask\u001b[0m\u001b[1;33m.\u001b[0m\u001b[0marray\u001b[0m \u001b[1;32mimport\u001b[0m \u001b[0mbackends\u001b[0m\u001b[1;33m,\u001b[0m \u001b[0mfft\u001b[0m\u001b[1;33m,\u001b[0m \u001b[0mlib\u001b[0m\u001b[1;33m,\u001b[0m \u001b[0mlinalg\u001b[0m\u001b[1;33m,\u001b[0m \u001b[0mma\u001b[0m\u001b[1;33m,\u001b[0m \u001b[0moverlap\u001b[0m\u001b[1;33m,\u001b[0m \u001b[0mrandom\u001b[0m\u001b[1;33m\u001b[0m\u001b[1;33m\u001b[0m\u001b[0m\n\u001b[0m\u001b[0;32m      3\u001b[0m     \u001b[1;32mfrom\u001b[0m \u001b[0mdask\u001b[0m\u001b[1;33m.\u001b[0m\u001b[0marray\u001b[0m\u001b[1;33m.\u001b[0m\u001b[0mblockwise\u001b[0m \u001b[1;32mimport\u001b[0m \u001b[0matop\u001b[0m\u001b[1;33m,\u001b[0m \u001b[0mblockwise\u001b[0m\u001b[1;33m\u001b[0m\u001b[1;33m\u001b[0m\u001b[0m\n\u001b[0;32m      4\u001b[0m     \u001b[1;32mfrom\u001b[0m \u001b[0mdask\u001b[0m\u001b[1;33m.\u001b[0m\u001b[0marray\u001b[0m\u001b[1;33m.\u001b[0m\u001b[0mchunk_types\u001b[0m \u001b[1;32mimport\u001b[0m \u001b[0mregister_chunk_type\u001b[0m\u001b[1;33m\u001b[0m\u001b[1;33m\u001b[0m\u001b[0m\n\u001b[0;32m      5\u001b[0m     from dask.array.core import (\n",
      "\u001b[1;32m~\\WPy64-31101\\python-3.11.0.amd64\\Lib\\site-packages\\dask\\array\\backends.py\u001b[0m in \u001b[0;36m<module>\u001b[1;34m\u001b[0m\n\u001b[0;32m     16\u001b[0m \u001b[1;32mfrom\u001b[0m \u001b[0mdask\u001b[0m\u001b[1;33m.\u001b[0m\u001b[0marray\u001b[0m\u001b[1;33m.\u001b[0m\u001b[0mnumpy_compat\u001b[0m \u001b[1;32mimport\u001b[0m \u001b[0mdivide\u001b[0m \u001b[1;32mas\u001b[0m \u001b[0mnp_divide\u001b[0m\u001b[1;33m\u001b[0m\u001b[1;33m\u001b[0m\u001b[0m\n\u001b[0;32m     17\u001b[0m \u001b[1;32mfrom\u001b[0m \u001b[0mdask\u001b[0m\u001b[1;33m.\u001b[0m\u001b[0marray\u001b[0m\u001b[1;33m.\u001b[0m\u001b[0mnumpy_compat\u001b[0m \u001b[1;32mimport\u001b[0m \u001b[0mma_divide\u001b[0m\u001b[1;33m\u001b[0m\u001b[1;33m\u001b[0m\u001b[0m\n\u001b[1;32m---> 18\u001b[1;33m \u001b[1;32mfrom\u001b[0m \u001b[0mdask\u001b[0m\u001b[1;33m.\u001b[0m\u001b[0marray\u001b[0m\u001b[1;33m.\u001b[0m\u001b[0mpercentile\u001b[0m \u001b[1;32mimport\u001b[0m \u001b[0m_percentile\u001b[0m\u001b[1;33m\u001b[0m\u001b[1;33m\u001b[0m\u001b[0m\n\u001b[0m\u001b[0;32m     19\u001b[0m \u001b[1;32mfrom\u001b[0m \u001b[0mdask\u001b[0m\u001b[1;33m.\u001b[0m\u001b[0mbackends\u001b[0m \u001b[1;32mimport\u001b[0m \u001b[0mCreationDispatch\u001b[0m\u001b[1;33m,\u001b[0m \u001b[0mDaskBackendEntrypoint\u001b[0m\u001b[1;33m\u001b[0m\u001b[1;33m\u001b[0m\u001b[0m\n\u001b[0;32m     20\u001b[0m \u001b[1;33m\u001b[0m\u001b[0m\n",
      "\u001b[1;32m~\\WPy64-31101\\python-3.11.0.amd64\\Lib\\site-packages\\dask\\array\\percentile.py\u001b[0m in \u001b[0;36m<module>\u001b[1;34m\u001b[0m\n\u001b[0;32m      7\u001b[0m \u001b[1;32mfrom\u001b[0m \u001b[0mtlz\u001b[0m \u001b[1;32mimport\u001b[0m \u001b[0mmerge\u001b[0m\u001b[1;33m\u001b[0m\u001b[1;33m\u001b[0m\u001b[0m\n\u001b[0;32m      8\u001b[0m \u001b[1;33m\u001b[0m\u001b[0m\n\u001b[1;32m----> 9\u001b[1;33m \u001b[1;32mfrom\u001b[0m \u001b[0mdask\u001b[0m\u001b[1;33m.\u001b[0m\u001b[0marray\u001b[0m\u001b[1;33m.\u001b[0m\u001b[0mcore\u001b[0m \u001b[1;32mimport\u001b[0m \u001b[0mArray\u001b[0m\u001b[1;33m\u001b[0m\u001b[1;33m\u001b[0m\u001b[0m\n\u001b[0m\u001b[0;32m     10\u001b[0m \u001b[1;32mfrom\u001b[0m \u001b[0mdask\u001b[0m\u001b[1;33m.\u001b[0m\u001b[0marray\u001b[0m\u001b[1;33m.\u001b[0m\u001b[0mnumpy_compat\u001b[0m \u001b[1;32mimport\u001b[0m \u001b[0m_numpy_122\u001b[0m\u001b[1;33m\u001b[0m\u001b[1;33m\u001b[0m\u001b[0m\n\u001b[0;32m     11\u001b[0m \u001b[1;32mfrom\u001b[0m \u001b[0mdask\u001b[0m\u001b[1;33m.\u001b[0m\u001b[0marray\u001b[0m\u001b[1;33m.\u001b[0m\u001b[0mnumpy_compat\u001b[0m \u001b[1;32mimport\u001b[0m \u001b[0mpercentile\u001b[0m \u001b[1;32mas\u001b[0m \u001b[0mnp_percentile\u001b[0m\u001b[1;33m\u001b[0m\u001b[1;33m\u001b[0m\u001b[0m\n",
      "\u001b[1;32m~\\WPy64-31101\\python-3.11.0.amd64\\Lib\\site-packages\\dask\\array\\core.py\u001b[0m in \u001b[0;36m<module>\u001b[1;34m\u001b[0m\n\u001b[0;32m     30\u001b[0m \u001b[1;32mfrom\u001b[0m \u001b[0mfsspec\u001b[0m \u001b[1;32mimport\u001b[0m \u001b[0mget_mapper\u001b[0m\u001b[1;33m\u001b[0m\u001b[1;33m\u001b[0m\u001b[0m\n\u001b[0;32m     31\u001b[0m \u001b[1;32mfrom\u001b[0m \u001b[0mtlz\u001b[0m \u001b[1;32mimport\u001b[0m \u001b[0maccumulate\u001b[0m\u001b[1;33m,\u001b[0m \u001b[0mconcat\u001b[0m\u001b[1;33m,\u001b[0m \u001b[0mfirst\u001b[0m\u001b[1;33m,\u001b[0m \u001b[0mfrequencies\u001b[0m\u001b[1;33m,\u001b[0m \u001b[0mgroupby\u001b[0m\u001b[1;33m,\u001b[0m \u001b[0mpartition\u001b[0m\u001b[1;33m\u001b[0m\u001b[1;33m\u001b[0m\u001b[0m\n\u001b[1;32m---> 32\u001b[1;33m \u001b[1;32mfrom\u001b[0m \u001b[0mtlz\u001b[0m\u001b[1;33m.\u001b[0m\u001b[0mcurried\u001b[0m \u001b[1;32mimport\u001b[0m \u001b[0mpluck\u001b[0m\u001b[1;33m\u001b[0m\u001b[1;33m\u001b[0m\u001b[0m\n\u001b[0m\u001b[0;32m     33\u001b[0m \u001b[1;33m\u001b[0m\u001b[0m\n\u001b[0;32m     34\u001b[0m \u001b[1;32mfrom\u001b[0m \u001b[0mdask\u001b[0m \u001b[1;32mimport\u001b[0m \u001b[0mcompute\u001b[0m\u001b[1;33m,\u001b[0m \u001b[0mconfig\u001b[0m\u001b[1;33m,\u001b[0m \u001b[0mcore\u001b[0m\u001b[1;33m\u001b[0m\u001b[1;33m\u001b[0m\u001b[0m\n",
      "\u001b[1;32m~\\WPy64-31101\\python-3.11.0.amd64\\Lib\\importlib\\_bootstrap.py\u001b[0m in \u001b[0;36m_find_and_load\u001b[1;34m(name, import_)\u001b[0m\n",
      "\u001b[1;32m~\\WPy64-31101\\python-3.11.0.amd64\\Lib\\importlib\\_bootstrap.py\u001b[0m in \u001b[0;36m_find_and_load_unlocked\u001b[1;34m(name, import_)\u001b[0m\n",
      "\u001b[1;32m~\\WPy64-31101\\python-3.11.0.amd64\\Lib\\importlib\\_bootstrap.py\u001b[0m in \u001b[0;36m_load_unlocked\u001b[1;34m(spec)\u001b[0m\n",
      "\u001b[1;32m~\\WPy64-31101\\python-3.11.0.amd64\\Lib\\site-packages\\tlz\\_build_tlz.py\u001b[0m in \u001b[0;36mexec_module\u001b[1;34m(self, module)\u001b[0m\n\u001b[0;32m     83\u001b[0m                 \u001b[0mpackage\u001b[0m\u001b[1;33m,\u001b[0m \u001b[0mdot\u001b[0m\u001b[1;33m,\u001b[0m \u001b[0msubmodules\u001b[0m \u001b[1;33m=\u001b[0m \u001b[0mv\u001b[0m\u001b[1;33m.\u001b[0m\u001b[0m__name__\u001b[0m\u001b[1;33m.\u001b[0m\u001b[0mpartition\u001b[0m\u001b[1;33m(\u001b[0m\u001b[1;34m'.'\u001b[0m\u001b[1;33m)\u001b[0m\u001b[1;33m\u001b[0m\u001b[1;33m\u001b[0m\u001b[0m\n\u001b[0;32m     84\u001b[0m                 \u001b[0mmodule_name\u001b[0m \u001b[1;33m=\u001b[0m \u001b[1;34m''\u001b[0m\u001b[1;33m.\u001b[0m\u001b[0mjoin\u001b[0m\u001b[1;33m(\u001b[0m\u001b[1;33m[\u001b[0m\u001b[1;34m'tlz'\u001b[0m\u001b[1;33m,\u001b[0m \u001b[0mdot\u001b[0m\u001b[1;33m,\u001b[0m \u001b[0msubmodules\u001b[0m\u001b[1;33m]\u001b[0m\u001b[1;33m)\u001b[0m\u001b[1;33m\u001b[0m\u001b[1;33m\u001b[0m\u001b[0m\n\u001b[1;32m---> 85\u001b[1;33m                 \u001b[0msubmodule\u001b[0m \u001b[1;33m=\u001b[0m \u001b[0mimport_module\u001b[0m\u001b[1;33m(\u001b[0m\u001b[0mmodule_name\u001b[0m\u001b[1;33m)\u001b[0m\u001b[1;33m\u001b[0m\u001b[1;33m\u001b[0m\u001b[0m\n\u001b[0m\u001b[0;32m     86\u001b[0m                 \u001b[0mmodule\u001b[0m\u001b[1;33m.\u001b[0m\u001b[0m__dict__\u001b[0m\u001b[1;33m[\u001b[0m\u001b[0mk\u001b[0m\u001b[1;33m]\u001b[0m \u001b[1;33m=\u001b[0m \u001b[0msubmodule\u001b[0m\u001b[1;33m\u001b[0m\u001b[1;33m\u001b[0m\u001b[0m\n\u001b[0;32m     87\u001b[0m \u001b[1;33m\u001b[0m\u001b[0m\n",
      "\u001b[1;32m~\\WPy64-31101\\python-3.11.0.amd64\\Lib\\importlib\\__init__.py\u001b[0m in \u001b[0;36mimport_module\u001b[1;34m(name, package)\u001b[0m\n\u001b[0;32m    124\u001b[0m                 \u001b[1;32mbreak\u001b[0m\u001b[1;33m\u001b[0m\u001b[1;33m\u001b[0m\u001b[0m\n\u001b[0;32m    125\u001b[0m             \u001b[0mlevel\u001b[0m \u001b[1;33m+=\u001b[0m \u001b[1;36m1\u001b[0m\u001b[1;33m\u001b[0m\u001b[1;33m\u001b[0m\u001b[0m\n\u001b[1;32m--> 126\u001b[1;33m     \u001b[1;32mreturn\u001b[0m \u001b[0m_bootstrap\u001b[0m\u001b[1;33m.\u001b[0m\u001b[0m_gcd_import\u001b[0m\u001b[1;33m(\u001b[0m\u001b[0mname\u001b[0m\u001b[1;33m[\u001b[0m\u001b[0mlevel\u001b[0m\u001b[1;33m:\u001b[0m\u001b[1;33m]\u001b[0m\u001b[1;33m,\u001b[0m \u001b[0mpackage\u001b[0m\u001b[1;33m,\u001b[0m \u001b[0mlevel\u001b[0m\u001b[1;33m)\u001b[0m\u001b[1;33m\u001b[0m\u001b[1;33m\u001b[0m\u001b[0m\n\u001b[0m\u001b[0;32m    127\u001b[0m \u001b[1;33m\u001b[0m\u001b[0m\n\u001b[0;32m    128\u001b[0m \u001b[1;33m\u001b[0m\u001b[0m\n",
      "\u001b[1;32m~\\WPy64-31101\\python-3.11.0.amd64\\Lib\\importlib\\_bootstrap.py\u001b[0m in \u001b[0;36m_gcd_import\u001b[1;34m(name, package, level)\u001b[0m\n",
      "\u001b[1;32m~\\WPy64-31101\\python-3.11.0.amd64\\Lib\\importlib\\_bootstrap.py\u001b[0m in \u001b[0;36m_find_and_load\u001b[1;34m(name, import_)\u001b[0m\n",
      "\u001b[1;32m~\\WPy64-31101\\python-3.11.0.amd64\\Lib\\importlib\\_bootstrap.py\u001b[0m in \u001b[0;36m_find_and_load_unlocked\u001b[1;34m(name, import_)\u001b[0m\n",
      "\u001b[1;31mAttributeError\u001b[0m: 'TlzSpec' object has no attribute '_uninitialized_submodules'"
     ]
    }
   ],
   "source": [
    "%matplotlib inline\n",
    "import numpy as np\n",
    "import matplotlib.pyplot as plt\n",
    "import xarray as xr\n",
    "import climlab\n",
    "from climlab import constants as const"
   ]
  },
  {
   "cell_type": "code",
   "execution_count": null,
   "metadata": {},
   "outputs": [],
   "source": [
    "#  Calculate daily average insolation as function of latitude and time of year\n",
    "lat = np.linspace( -90., 90., 500 )\n",
    "days = np.linspace(0, const.days_per_year, 365 )\n",
    "Q = climlab.solar.insolation.daily_insolation( lat, days )"
   ]
  },
  {
   "cell_type": "code",
   "execution_count": 3,
   "metadata": {},
   "outputs": [
    {
     "ename": "NameError",
     "evalue": "name 'xr' is not defined",
     "output_type": "error",
     "traceback": [
      "\u001b[1;31m---------------------------------------------------------------------------\u001b[0m",
      "\u001b[1;31mNameError\u001b[0m                                 Traceback (most recent call last)",
      "\u001b[1;32m~\\AppData\\Local\\Temp\\ipykernel_8340\\358811680.py\u001b[0m in \u001b[0;36m<cell line: 0>\u001b[1;34m()\u001b[0m\n\u001b[0;32m      1\u001b[0m \u001b[1;31m#  daily surface temperature from  NCEP reanalysis\u001b[0m\u001b[1;33m\u001b[0m\u001b[1;33m\u001b[0m\u001b[0m\n\u001b[0;32m      2\u001b[0m \u001b[0mncep_url\u001b[0m \u001b[1;33m=\u001b[0m \u001b[1;34m\"http://www.esrl.noaa.gov/psd/thredds/dodsC/Datasets/ncep.reanalysis.derived/\"\u001b[0m\u001b[1;33m\u001b[0m\u001b[1;33m\u001b[0m\u001b[0m\n\u001b[1;32m----> 3\u001b[1;33m \u001b[0mncep_temp\u001b[0m \u001b[1;33m=\u001b[0m \u001b[0mxr\u001b[0m\u001b[1;33m.\u001b[0m\u001b[0mopen_dataset\u001b[0m\u001b[1;33m(\u001b[0m \u001b[0mncep_url\u001b[0m \u001b[1;33m+\u001b[0m \u001b[1;34m\"surface_gauss/skt.sfc.day.1981-2010.ltm.nc\"\u001b[0m\u001b[1;33m,\u001b[0m \u001b[0mdecode_times\u001b[0m\u001b[1;33m=\u001b[0m\u001b[1;32mFalse\u001b[0m\u001b[1;33m)\u001b[0m\u001b[1;33m\u001b[0m\u001b[1;33m\u001b[0m\u001b[0m\n\u001b[0m\u001b[0;32m      4\u001b[0m \u001b[0mncep_temp_zon\u001b[0m \u001b[1;33m=\u001b[0m \u001b[0mncep_temp\u001b[0m\u001b[1;33m.\u001b[0m\u001b[0mskt\u001b[0m\u001b[1;33m.\u001b[0m\u001b[0mmean\u001b[0m\u001b[1;33m(\u001b[0m\u001b[0mdim\u001b[0m\u001b[1;33m=\u001b[0m\u001b[1;34m'lon'\u001b[0m\u001b[1;33m)\u001b[0m\u001b[1;33m\u001b[0m\u001b[1;33m\u001b[0m\u001b[0m\n",
      "\u001b[1;31mNameError\u001b[0m: name 'xr' is not defined"
     ]
    }
   ],
   "source": [
    "#  daily surface temperature from  NCEP reanalysis\n",
    "ncep_url = \"http://www.esrl.noaa.gov/psd/thredds/dodsC/Datasets/ncep.reanalysis.derived/\"\n",
    "ncep_temp = xr.open_dataset( ncep_url + \"surface_gauss/skt.sfc.day.1981-2010.ltm.nc\", decode_times=False)\n",
    "ncep_temp_zon = ncep_temp.skt.mean(dim='lon')"
   ]
  },
  {
   "cell_type": "code",
   "execution_count": null,
   "metadata": {},
   "outputs": [],
   "source": [
    "fig = plt.figure(figsize=(12,6))\n",
    "\n",
    "ax1 = fig.add_subplot(121)\n",
    "CS = ax1.contour( days, lat, Q , levels = np.arange(0., 600., 50.) )\n",
    "ax1.clabel(CS, CS.levels, inline=True, fmt='%r', fontsize=10)\n",
    "ax1.set_title('Daily average insolation', fontsize=18 )\n",
    "ax1.contourf ( days, lat, Q, levels=[-100., 0.], colors='k' )\n",
    "\n",
    "ax2 = fig.add_subplot(122)\n",
    "CS = ax2.contour( (ncep_temp.time - ncep_temp.time[0])/const.hours_per_day, ncep_temp.lat, \n",
    "                 ncep_temp_zon.T, levels=np.arange(210., 310., 10. ) )\n",
    "ax2.clabel(CS, CS.levels, inline=True, fmt='%r', fontsize=10)\n",
    "ax2.set_title('Observed zonal average surface temperature', fontsize=18 )\n",
    "\n",
    "for ax in [ax1,ax2]:\n",
    "    ax.set_xlabel('Days since January 1', fontsize=16 )\n",
    "    ax.set_ylabel('Latitude', fontsize=16 )\n",
    "    ax.set_yticks([-90,-60,-30,0,30,60,90])\n",
    "    ax.grid()"
   ]
  },
  {
   "cell_type": "markdown",
   "metadata": {},
   "source": [
    "This figure reveals something fairly obvious, but still worth thinking about:\n",
    "\n",
    "**Warm temperatures are correlated with high insolation**. It's warm where the sun shines.\n",
    "\n",
    "More specifically, we can see a few interesting details here:\n",
    "\n",
    "- The seasonal cycle is weakest in the tropics and strongest in the high latitudes.\n",
    "- The warmest temperatures occur slighly NORTH of the equator\n",
    "- The highest insolation occurs at the poles at summer solstice."
   ]
  },
  {
   "cell_type": "markdown",
   "metadata": {},
   "source": [
    "The local surface temperature does not correlate perfectly with local insolation for two reasons:\n",
    "\n",
    "- the climate system has heat capacity, which buffers some of the seasonal variations\n",
    "- the climate system moves energy around in space!"
   ]
  },
  {
   "cell_type": "markdown",
   "metadata": {},
   "source": [
    "### Create climlab model with daily insolation\n",
    "Let's create a climlab model which accounts for daily insolation. \n",
    "We use Stefan Boltzmann OLR and fixed albedo for now (and care about this later)."
   ]
  },
  {
   "cell_type": "code",
   "execution_count": null,
   "metadata": {},
   "outputs": [],
   "source": [
    "# A one-dimensional domain\n",
    "state = climlab.surface_state(num_lat=90, water_depth=10.)\n",
    "\n",
    "#  Daily insolation as a function of latitude and time of year\n",
    "sun = climlab.radiation.DailyInsolation(name='Insolation', domains=state['Ts'].domain)\n",
    "\n",
    "#  create the longwave radiation process\n",
    "olr = climlab.radiation.Boltzmann(name='OutgoingLongwave',\n",
    "                                  state=state, \n",
    "                                  tau = 0.612,\n",
    "                                  eps = 1.,\n",
    "                                )\n",
    "\n",
    "#  create the shortwave radiation process\n",
    "asr = climlab.radiation.SimpleAbsorbedShortwave(name='AbsorbedShortwave',\n",
    "                                                state=state, \n",
    "                                                insolation=sun.insolation, \n",
    "                                                albedo=0.299,\n",
    "                                               )\n",
    "\n",
    "\n",
    "ins_model = climlab.couple([sun, olr,asr], name='1dEBM')\n",
    "print( ins_model)"
   ]
  },
  {
   "cell_type": "code",
   "execution_count": null,
   "metadata": {},
   "outputs": [],
   "source": [
    "ins_model.compute_diagnostics()"
   ]
  },
  {
   "cell_type": "code",
   "execution_count": null,
   "metadata": {},
   "outputs": [],
   "source": [
    "fig, ax = plt.subplots()\n",
    "ax.plot(ins_model.lat, ins_model.insolation)\n",
    "ax.set_xlabel('Latitude')\n",
    "ax.set_ylabel('Insolation (W/m2)');"
   ]
  },
  {
   "cell_type": "markdown",
   "metadata": {},
   "source": [
    "This new insolation process uses the same code we've already been working with to compute realistic distributions of insolation. Here we are using\n",
    "```\n",
    "climlab.radiation.DailyInsolation\n",
    "```\n",
    "but there is also\n",
    "\n",
    "```\n",
    "climlab.radiation.AnnualMeanInsolation\n",
    "```\n",
    "for models in which you prefer to suppress the seasonal cycle and prescribe a time-invariant insolation."
   ]
  },
  {
   "cell_type": "markdown",
   "metadata": {},
   "source": [
    "The following code will just integrate the model forward in four steps in order to get snapshots of insolation at the solstices and equinoxes."
   ]
  },
  {
   "cell_type": "code",
   "execution_count": null,
   "metadata": {},
   "outputs": [],
   "source": [
    "#  ins_model is initialized on Jan. 1\n",
    "\n",
    "#  integrate forward just under 1/4 year... should get about to the NH spring equinox\n",
    "ins_model.integrate_days(31+28+22)\n",
    "Q_spring = ins_model.insolation.copy()\n",
    "#  Then forward to NH summer solstice\n",
    "ins_model.integrate_days(31+30+31)\n",
    "Q_summer = ins_model.insolation.copy()\n",
    "#  and on to autumnal equinox\n",
    "ins_model.integrate_days(30+31+33)\n",
    "Q_fall = ins_model.insolation.copy()\n",
    "#  and finally to NH winter solstice\n",
    "ins_model.integrate_days(30+31+30)\n",
    "Q_winter = ins_model.insolation.copy()"
   ]
  },
  {
   "cell_type": "code",
   "execution_count": null,
   "metadata": {},
   "outputs": [],
   "source": [
    "fig, ax = plt.subplots()\n",
    "ax.plot(ins_model.lat, Q_spring, label='Spring')\n",
    "ax.plot(ins_model.lat, Q_summer, label='Summer')\n",
    "ax.plot(ins_model.lat, Q_fall, label='Fall')\n",
    "ax.plot(ins_model.lat, Q_winter, label='Winter')\n",
    "ax.legend()\n",
    "ax.set_xlabel('Latitude')\n",
    "ax.set_ylabel('Insolation (W/m2)');"
   ]
  },
  {
   "cell_type": "markdown",
   "metadata": {},
   "source": [
    "This just serves to demonstrate that the `DailyInsolation` process is doing something sensible."
   ]
  },
  {
   "cell_type": "markdown",
   "metadata": {},
   "source": [
    "Note that we could also pass different orbital parameters to this subprocess. They default to present-day values, which is what we are using here."
   ]
  },
  {
   "cell_type": "markdown",
   "metadata": {},
   "source": [
    "____\n",
    "\n",
    "<a id='section2'></a>\n",
    "\n",
    "## 2. Parameterising OLR as a function of latitude\n",
    "____"
   ]
  },
  {
   "cell_type": "markdown",
   "metadata": {},
   "source": [
    "So far we have used the Stefan Boltzmann radiation law to calculate the mean Outgoing Longwave Radiation as a function of surface temperature, taking the opacity & emissivity of the atmosphere into account with a tuned parameter $\\epsilon$.\n",
    "\n",
    "$$ OLR = \\sigma \\ \\epsilon \\ T_s^4 $$\n",
    "\n",
    "Let's see how well this relation works for observed OLR (for different latitudes and surface temperatures), using the NCEP reanalysis data again:"
   ]
  },
  {
   "cell_type": "code",
   "execution_count": 2,
   "metadata": {
    "slideshow": {
     "slide_type": "slide"
    }
   },
   "outputs": [
    {
     "ename": "NameError",
     "evalue": "name 'xr' is not defined",
     "output_type": "error",
     "traceback": [
      "\u001b[1;31m---------------------------------------------------------------------------\u001b[0m",
      "\u001b[1;31mNameError\u001b[0m                                 Traceback (most recent call last)",
      "\u001b[1;32m~\\AppData\\Local\\Temp\\ipykernel_8340\\3787283059.py\u001b[0m in \u001b[0;36m<cell line: 0>\u001b[1;34m()\u001b[0m\n\u001b[0;32m      2\u001b[0m \u001b[1;33m\u001b[0m\u001b[0m\n\u001b[0;32m      3\u001b[0m \u001b[1;31m# monthly surface temperature\u001b[0m\u001b[1;33m\u001b[0m\u001b[1;33m\u001b[0m\u001b[0m\n\u001b[1;32m----> 4\u001b[1;33m \u001b[0mncep_Ts\u001b[0m \u001b[1;33m=\u001b[0m \u001b[0mxr\u001b[0m\u001b[1;33m.\u001b[0m\u001b[0mopen_dataset\u001b[0m\u001b[1;33m(\u001b[0m \u001b[0mncep_url\u001b[0m \u001b[1;33m+\u001b[0m \u001b[1;34m\"surface_gauss/skt.sfc.mon.1981-2010.ltm.nc\"\u001b[0m\u001b[1;33m,\u001b[0m \u001b[0mdecode_times\u001b[0m\u001b[1;33m=\u001b[0m\u001b[1;32mFalse\u001b[0m\u001b[1;33m)\u001b[0m\u001b[1;33m\u001b[0m\u001b[1;33m\u001b[0m\u001b[0m\n\u001b[0m\u001b[0;32m      5\u001b[0m \u001b[0mlat_ncep\u001b[0m \u001b[1;33m=\u001b[0m \u001b[0mncep_Ts\u001b[0m\u001b[1;33m.\u001b[0m\u001b[0mlat\u001b[0m\u001b[1;33m;\u001b[0m \u001b[0mlon_ncep\u001b[0m \u001b[1;33m=\u001b[0m \u001b[0mncep_Ts\u001b[0m\u001b[1;33m.\u001b[0m\u001b[0mlon\u001b[0m\u001b[1;33m\u001b[0m\u001b[1;33m\u001b[0m\u001b[0m\n\u001b[0;32m      6\u001b[0m \u001b[0mncep_Ts\u001b[0m\u001b[1;33m\u001b[0m\u001b[1;33m\u001b[0m\u001b[0m\n",
      "\u001b[1;31mNameError\u001b[0m: name 'xr' is not defined"
     ]
    }
   ],
   "source": [
    "ncep_url = \"http://www.esrl.noaa.gov/psd/thredds/dodsC/Datasets/ncep.reanalysis.derived/\"\n",
    "\n",
    "# monthly surface temperature\n",
    "ncep_Ts = xr.open_dataset( ncep_url + \"surface_gauss/skt.sfc.mon.1981-2010.ltm.nc\", decode_times=False)\n",
    "lat_ncep = ncep_Ts.lat; lon_ncep = ncep_Ts.lon\n",
    "ncep_Ts"
   ]
  },
  {
   "cell_type": "code",
   "execution_count": null,
   "metadata": {
    "slideshow": {
     "slide_type": "slide"
    }
   },
   "outputs": [],
   "source": [
    "#  Take the annual and zonal average!\n",
    "Ts_ncep_annual = ncep_Ts.skt.mean(dim=('lon','time'))"
   ]
  },
  {
   "cell_type": "code",
   "execution_count": null,
   "metadata": {
    "slideshow": {
     "slide_type": "-"
    }
   },
   "outputs": [],
   "source": [
    "# TOA radiation data\n",
    "ncep_ulwrf = xr.open_dataset( ncep_url + \"other_gauss/ulwrf.ntat.mon.1981-2010.ltm.nc\", decode_times=False)\n",
    "ncep_dswrf = xr.open_dataset( ncep_url + \"other_gauss/dswrf.ntat.mon.1981-2010.ltm.nc\", decode_times=False)\n",
    "ncep_uswrf = xr.open_dataset( ncep_url + \"other_gauss/uswrf.ntat.mon.1981-2010.ltm.nc\", decode_times=False)\n",
    "OLR_ncep_annual = ncep_ulwrf.ulwrf.mean(dim=('lon','time'))\n",
    "ASR_ncep_annual = (ncep_dswrf.dswrf - ncep_uswrf.uswrf).mean(dim=('lon','time'))"
   ]
  },
  {
   "cell_type": "code",
   "execution_count": null,
   "metadata": {},
   "outputs": [],
   "source": [
    "OLR_boltzmann = climlab.constants.sigma * 0.61 * (Ts_ncep_annual+273.15)**4"
   ]
  },
  {
   "cell_type": "code",
   "execution_count": null,
   "metadata": {},
   "outputs": [],
   "source": [
    "fig, ax1 = plt.subplots(figsize=(8,6))\n",
    "ax1.plot( Ts_ncep_annual, OLR_ncep_annual, 'o' , label='observation')\n",
    "ax1.plot(Ts_ncep_annual, OLR_boltzmann, label='Boltzmann')\n",
    "ax1.set_xlabel('Surface temperature (C)', fontsize=16)\n",
    "ax1.set_ylabel('OLR (W m$^{-2}$)', fontsize=16)\n",
    "ax1.set_title('OLR versus surface temperature from NCEP reanalysis', fontsize=18)\n",
    "ax1.legend(loc='upper left')\n",
    "ax1.grid()"
   ]
  },
  {
   "cell_type": "markdown",
   "metadata": {},
   "source": [
    "The Stefan Boltzmann law works well for the temperature range between 5 and 25$^\\circ$C, but not above and below. This is due to the complex atmospheric processes that affect atmospheric absorption of longwave radiation. The most obvious is the impact of cloud bands around the equator which reduces OLR for highest surface temperatures.\n",
    "\n",
    "Instead of an exponential OLR scaling with surface temperature, let's introduce the following simple linear parameterization:\n",
    "\n",
    "$$ OLR = A + B T_s $$\n",
    "\n",
    "With:\n",
    "\n",
    "- $T_s$ the zonal average surface temperature in ºC\n",
    "- $A$ is a constant in W m$^{-2}$\n",
    "- $B$ is a constant in W m$^{-2}$ ºC$^{-1}$\n",
    "\n",
    "\n",
    "Let's use linear regression to compute this:"
   ]
  },
  {
   "cell_type": "code",
   "execution_count": null,
   "metadata": {
    "slideshow": {
     "slide_type": "slide"
    }
   },
   "outputs": [],
   "source": [
    "#  Use a linear regression package to compute best fit for the slope and intercept\n",
    "from scipy.stats import linregress\n",
    "slope, intercept, r_value, p_value, std_err = linregress(Ts_ncep_annual, OLR_ncep_annual)\n",
    "\n",
    "print( 'Best fit is A = %0.0f W/m2 and B = %0.1f W/m2/degC' %(intercept, slope))"
   ]
  },
  {
   "cell_type": "markdown",
   "metadata": {
    "slideshow": {
     "slide_type": "slide"
    }
   },
   "source": [
    "We're going to plot the data and the best fit line, but also another line using these values:"
   ]
  },
  {
   "cell_type": "code",
   "execution_count": null,
   "metadata": {},
   "outputs": [],
   "source": [
    "#  More standard values\n",
    "A = 210.\n",
    "B = 2."
   ]
  },
  {
   "cell_type": "code",
   "execution_count": null,
   "metadata": {},
   "outputs": [],
   "source": [
    "fig, ax1 = plt.subplots(figsize=(8,6))\n",
    "ax1.plot( Ts_ncep_annual, OLR_ncep_annual, 'o' , label='data')\n",
    "ax1.plot( Ts_ncep_annual, intercept + slope * Ts_ncep_annual, 'k--', label='best fit')\n",
    "ax1.plot( Ts_ncep_annual, A + B * Ts_ncep_annual, 'r--', label='B=2')\n",
    "ax1.plot(Ts_ncep_annual, OLR_boltzmann, label='Boltzmann')\n",
    "ax1.set_xlabel('Surface temperature (C)', fontsize=16)\n",
    "ax1.set_ylabel('OLR (W m$^{-2}$)', fontsize=16)\n",
    "ax1.set_title('OLR versus surface temperature from NCEP reanalysis', fontsize=18)\n",
    "ax1.legend(loc='upper left')\n",
    "ax1.grid()"
   ]
  },
  {
   "cell_type": "markdown",
   "metadata": {},
   "source": [
    "____\n",
    "\n",
    "<a id='section3'></a>\n",
    "\n",
    "## 3. Parameterising albedo as a function of latitude\n",
    "____"
   ]
  },
  {
   "cell_type": "markdown",
   "metadata": {
    "slideshow": {
     "slide_type": "slide"
    }
   },
   "source": [
    "### Observed albedo\n",
    "\n",
    "Let's go back to the NCEP Reanalysis data to see how planetary albedo actually varies as a function of latitude."
   ]
  },
  {
   "cell_type": "code",
   "execution_count": null,
   "metadata": {
    "slideshow": {
     "slide_type": "slide"
    }
   },
   "outputs": [],
   "source": [
    "days = np.linspace(1.,50.)/50 * const.days_per_year\n",
    "Qann_ncep = climlab.solar.insolation.daily_insolation(lat_ncep, days ).mean(dim='day')\n",
    "albedo_ncep = 1 - ASR_ncep_annual / Qann_ncep\n",
    "\n",
    "albedo_ncep_global = np.average(albedo_ncep, weights=np.cos(np.deg2rad(lat_ncep)))"
   ]
  },
  {
   "cell_type": "code",
   "execution_count": null,
   "metadata": {
    "slideshow": {
     "slide_type": "slide"
    }
   },
   "outputs": [],
   "source": [
    "print( 'The annual, global mean planetary albedo is %0.3f' %albedo_ncep_global)\n",
    "fig,ax = plt.subplots()\n",
    "ax.plot(lat_ncep, albedo_ncep)\n",
    "ax.grid();\n",
    "ax.set_xlabel('Latitude')\n",
    "ax.set_ylabel('Albedo');"
   ]
  },
  {
   "cell_type": "markdown",
   "metadata": {
    "slideshow": {
     "slide_type": "slide"
    }
   },
   "source": [
    "**The albedo increases markedly toward the poles.**\n",
    "\n",
    "There are several reasons for this:\n",
    "\n",
    "- Surface snow and ice increase toward the poles\n",
    "- Cloudiness is an important (but complicated) factor.\n",
    "- Albedo increases with solar zenith angle (the angle at which the direct solar beam strikes a surface)"
   ]
  },
  {
   "cell_type": "markdown",
   "metadata": {
    "slideshow": {
     "slide_type": "slide"
    }
   },
   "source": [
    "### Approximating the observed albedo with a smooth function\n",
    "\n",
    "Like temperature and insolation, this can be approximated by a smooth function that increases with latitude:\n",
    "\n",
    "$$ \\alpha(\\phi) \\approx \\alpha_0 + \\alpha_2 P_2(\\sin\\phi) $$\n",
    "\n",
    "where $P_2$ is the 2nd Legendre polynomial:\n",
    "\n",
    "$$ P_2 (x) = \\frac{1}{2} \\left( 3x^2-1 \\right) $$\n",
    "\n",
    "where we have also set\n",
    "\n",
    "$$ x = \\sin\\phi $$\n",
    "\n",
    "In effect we are using a truncated series expansion of the full meridional structure of $\\alpha$. $a_0$ is the global average, and $a_2$ is proportional to the equator-to-pole gradient in $\\alpha$."
   ]
  },
  {
   "cell_type": "markdown",
   "metadata": {
    "slideshow": {
     "slide_type": "slide"
    }
   },
   "source": [
    "We will set\n",
    "\n",
    "$$ \\alpha_0 = 0.354, ~~~ \\alpha_2 = 0.25 $$"
   ]
  },
  {
   "cell_type": "code",
   "execution_count": null,
   "metadata": {
    "slideshow": {
     "slide_type": "slide"
    }
   },
   "outputs": [],
   "source": [
    "# Add a new curve to the previous figure\n",
    "from climlab.utils import legendre\n",
    "\n",
    "a0 = albedo_ncep_global\n",
    "a2 = 0.25\n",
    "ax.plot(lat_ncep, a0 + a2 * legendre.P2(np.sin(np.deg2rad(lat_ncep))))\n",
    "fig"
   ]
  },
  {
   "cell_type": "markdown",
   "metadata": {
    "slideshow": {
     "slide_type": "slide"
    }
   },
   "source": [
    "Of course we are not fitting all the details of the observed albedo curve. But we do get the correct global mean a reasonable representation of the equator-to-pole gradient in albedo."
   ]
  },
  {
   "cell_type": "markdown",
   "metadata": {},
   "source": [
    "____\n",
    "\n",
    "<a id='section4'></a>\n",
    "\n",
    "## 4. Building a 1-dim EBM\n",
    "____\n",
    "\n",
    "Okay, now that we have latitude dependent parameterisations of \n",
    " - Outgoing Longwave Radiation\n",
    " - Insulation\n",
    " - albedo\n",
    " \n",
    "let's put things together and see what surface temperatures this one dimensional EBM computes. "
   ]
  },
  {
   "cell_type": "code",
   "execution_count": null,
   "metadata": {},
   "outputs": [],
   "source": [
    "# A two-dimensional domain\n",
    "state = climlab.surface_state(num_lat=90, water_depth=10.)\n",
    "\n",
    "#  create the longwave radiation process\n",
    "olr = climlab.radiation.AplusBT(name='OutgoingLongwave',\n",
    "                                  state=state, \n",
    "                                  A = 210,\n",
    "                                  B = 2)\n",
    "\n",
    "# create daily insolation as a function of latitude and time of year\n",
    "sun = climlab.radiation.DailyInsolation(name='Insolation', domains=state['Ts'].domain)\n",
    "\n",
    "# create latitude dependent albedo parameterisation\n",
    "alb = climlab.surface.albedo.P2Albedo(domains=state['Ts'].domain,\n",
    "                                     a0 = 0.354,\n",
    "                                     a2 = 0.25)\n",
    "\n",
    "#  create the shortwave radiation process\n",
    "asr = climlab.radiation.SimpleAbsorbedShortwave(name='AbsorbedShortwave',\n",
    "                                                state=state, \n",
    "                                                insolation=sun.insolation, \n",
    "                                                albedo=alb.albedo,\n",
    "                                               )\n",
    "\n",
    "\n",
    "model = climlab.couple([olr,asr,sun], name='1dEBM')\n",
    "print( model)"
   ]
  },
  {
   "cell_type": "code",
   "execution_count": null,
   "metadata": {},
   "outputs": [],
   "source": [
    "climlab.to_xarray(state)"
   ]
  },
  {
   "cell_type": "markdown",
   "metadata": {},
   "source": [
    "### Find the steady seasonal cycle of temperature"
   ]
  },
  {
   "cell_type": "code",
   "execution_count": null,
   "metadata": {},
   "outputs": [],
   "source": [
    "model.integrate_years(4.)"
   ]
  },
  {
   "cell_type": "code",
   "execution_count": null,
   "metadata": {},
   "outputs": [],
   "source": [
    "model.integrate_years(1.)"
   ]
  },
  {
   "cell_type": "markdown",
   "metadata": {},
   "source": [
    "All climlab `Process` objects have an attribute called `timeave`. \n",
    "\n",
    "This is a dictionary of time-averaged diagnostics, which are automatically calculated during the most recent call to `integrate_years()` or `integrate_days()`."
   ]
  },
  {
   "cell_type": "code",
   "execution_count": null,
   "metadata": {},
   "outputs": [],
   "source": [
    "model.timeave.keys()"
   ]
  },
  {
   "cell_type": "markdown",
   "metadata": {},
   "source": [
    "Here we use the `timeave['insolation']` to plot the annual mean insolation. \n",
    "\n",
    "(We know it is the *annual* average because the last call to `model.integrate_years` was for exactly 1 year)"
   ]
  },
  {
   "cell_type": "code",
   "execution_count": null,
   "metadata": {},
   "outputs": [],
   "source": [
    "fig, ax = plt.subplots()\n",
    "ax.plot(model.lat, model.timeave['insolation'])\n",
    "ax.set_xlabel('Latitude [$^\\circ$N]')\n",
    "ax.set_ylabel('Insolation [W/m$^2$]')"
   ]
  },
  {
   "cell_type": "markdown",
   "metadata": {},
   "source": [
    "###  Compare annual average nodel temperature to the zonal-, annual mean observations."
   ]
  },
  {
   "cell_type": "code",
   "execution_count": null,
   "metadata": {},
   "outputs": [],
   "source": [
    "# Plot annual mean surface temperature in the model,\n",
    "#   compare to observed annual mean surface temperatures\n",
    "fig, ax = plt.subplots(figsize=(12,6))\n",
    "ax.plot(model.lat, model.timeave['Ts'], label='1d EBM')\n",
    "ax.plot(ncep_temp_zon.lat, ncep_temp_zon.mean(dim='time')-273.15, label='observation')\n",
    "ax.set_xticks(range(-90,100,30))\n",
    "ax.set_xlabel('Latitude [$^\\circ$N]')\n",
    "ax.set_ylabel('T$_s$ [$^\\circ$C]')\n",
    "ax.grid(); ax.legend();"
   ]
  },
  {
   "cell_type": "markdown",
   "metadata": {},
   "source": [
    "The 1 dimensional EBM is too warm at equator and too cold at the poles, **differing more than 30 $^\\circ$C!** Why is that?\n",
    "\n",
    "Let's compare the energy budget for the model and observations:"
   ]
  },
  {
   "cell_type": "code",
   "execution_count": 5,
   "metadata": {},
   "outputs": [
    {
     "ename": "TypeError",
     "evalue": "'Axes' object is not subscriptable",
     "output_type": "error",
     "traceback": [
      "\u001b[1;31m---------------------------------------------------------------------------\u001b[0m",
      "\u001b[1;31mTypeError\u001b[0m                                 Traceback (most recent call last)",
      "\u001b[1;32m~\\AppData\\Local\\Temp\\ipykernel_8340\\1845296567.py\u001b[0m in \u001b[0;36m<cell line: 0>\u001b[1;34m()\u001b[0m\n\u001b[0;32m      3\u001b[0m \u001b[1;33m\u001b[0m\u001b[0m\n\u001b[0;32m      4\u001b[0m \u001b[1;33m\u001b[0m\u001b[0m\n\u001b[1;32m----> 5\u001b[1;33m \u001b[0max\u001b[0m \u001b[1;33m=\u001b[0m \u001b[0maxes\u001b[0m\u001b[1;33m[\u001b[0m\u001b[1;36m0\u001b[0m\u001b[1;33m]\u001b[0m\u001b[1;33m\u001b[0m\u001b[1;33m\u001b[0m\u001b[0m\n\u001b[0m\u001b[0;32m      6\u001b[0m \u001b[0max\u001b[0m\u001b[1;33m.\u001b[0m\u001b[0mplot\u001b[0m\u001b[1;33m(\u001b[0m\u001b[0mlat_ncep\u001b[0m\u001b[1;33m,\u001b[0m \u001b[0mASR_ncep_annual\u001b[0m\u001b[1;33m,\u001b[0m \u001b[0mlabel\u001b[0m\u001b[1;33m=\u001b[0m\u001b[1;34m'ASR'\u001b[0m\u001b[1;33m)\u001b[0m\u001b[1;33m\u001b[0m\u001b[1;33m\u001b[0m\u001b[0m\n\u001b[0;32m      7\u001b[0m \u001b[0max\u001b[0m\u001b[1;33m.\u001b[0m\u001b[0mplot\u001b[0m\u001b[1;33m(\u001b[0m\u001b[0mlat_ncep\u001b[0m\u001b[1;33m,\u001b[0m \u001b[0mOLR_ncep_annual\u001b[0m\u001b[1;33m,\u001b[0m \u001b[0mlabel\u001b[0m\u001b[1;33m=\u001b[0m\u001b[1;34m'OLR'\u001b[0m\u001b[1;33m)\u001b[0m\u001b[1;33m\u001b[0m\u001b[1;33m\u001b[0m\u001b[0m\n",
      "\u001b[1;31mTypeError\u001b[0m: 'Axes' object is not subscriptable"
     ]
    },
    {
     "data": {
      "image/png": "[encoded data removed]",
      "text/plain": [
       "<Figure size 1500x500 with 1 Axes>"
      ]
     },
     "metadata": {},
     "output_type": "display_data"
    }
   ],
   "source": [
    "import matplotlib.pyplot as plt\n",
    "fig, axes = plt.subplots(1,1, figsize=(15,5))\n",
    "\n",
    "\n",
    "ax = axes[0]\n",
    "ax.plot(lat_ncep, ASR_ncep_annual, label='ASR')\n",
    "ax.plot(lat_ncep, OLR_ncep_annual, label='OLR')\n",
    "ax.set_title('observations')\n",
    "ax.set_xlabel('latitude [$^\\circ$N]')\n",
    "ax.legend()\n",
    "\n",
    "\n",
    "# ax = axes[1]\n",
    "# ax.plot(model.lat, model.timeave['ASR'], label='ASR')\n",
    "# ax.plot(model.lat, model.timeave['OLR'], label='OLR')\n",
    "# ax.set_title('1dim EBM')\n",
    "# ax.set_ylabel('radiation [W/m$^2$]')\n",
    "# ax.set_xlabel('latitude [$^\\circ$N]')\n",
    "# ax.legend()\n",
    "\n"
   ]
  },
  {
   "cell_type": "markdown",
   "metadata": {},
   "source": [
    "Observations show that there is an imbalance of radiation energy across latitudes:\n",
    "\n",
    "- low latitudes (around equator): more shortwave radiation absorbed at the equator than radiated to space -> **energy surplus**\n",
    "- high latitudes (towards the poles): more long wave radiation emitted than absorbed shortwave radiation -> **energy deficit**\n",
    "\n",
    "That means energy must be transported from equator to the poles. **We did not include any transport terms across latitude in our 1 dimensional energy balance model** so far.\n",
    "\n",
    "As a consequence the surface temperature adjust at every single latitude to balance ASR and OLR, leading to too high temperatures around equator and too low temperatures at the poles.\n",
    "\n"
   ]
  },
  {
   "cell_type": "markdown",
   "metadata": {},
   "source": [
    "We will look at parameterising energy transport in the next lab."
   ]
  },
  {
   "cell_type": "markdown",
   "metadata": {
    "slideshow": {
     "slide_type": "skip"
    }
   },
   "source": [
    "____________\n",
    "\n",
    "## Credits\n",
    "\n",
    "This notebook is part of [The Climate Laboratory](https://brian-rose.github.io/ClimateLaboratoryBook), an open-source textbook developed and maintained by [Brian E. J. Rose](http://www.atmos.albany.edu/facstaff/brose/index.html), University at Albany.\n",
    "\n",
    "It is licensed for free and open consumption under the\n",
    "[Creative Commons Attribution 4.0 International (CC BY 4.0)](https://creativecommons.org/licenses/by/4.0/) license.\n",
    "\n",
    "Development of these notes and the [climlab software](https://github.com/brian-rose/climlab) is partially supported by the National Science Foundation under award AGS-1455071 to Brian Rose. Any opinions, findings, conclusions or recommendations expressed here are mine and do not necessarily reflect the views of the National Science Foundation.\n",
    "____________"
   ]
  },
  {
   "cell_type": "code",
   "execution_count": null,
   "metadata": {},
   "outputs": [],
   "source": []
  }
 ],
 "metadata": {
  "anaconda-cloud": {},
  "kernelspec": {
   "display_name": "Python 3 (ipykernel)",
   "language": "python",
   "name": "python3"
  },
  "language_info": {
   "codemirror_mode": {
    "name": "ipython",
    "version": 3
   },
   "file_extension": ".py",
   "mimetype": "text/x-python",
   "name": "python",
   "nbconvert_exporter": "python",
   "pygments_lexer": "ipython3",
   "version": "3.11.0"
  }
 },
 "nbformat": 4,
 "nbformat_minor": 4
}

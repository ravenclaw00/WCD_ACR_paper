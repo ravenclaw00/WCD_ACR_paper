{
 "cells": [
  {
   "cell_type": "code",
   "execution_count": 1,
   "metadata": {},
   "outputs": [
    {
     "data": {
      "text/html": [
       "<style>.container { width:90% !important; }</style>"
      ],
      "text/plain": [
       "<IPython.core.display.HTML object>"
      ]
     },
     "metadata": {},
     "output_type": "display_data"
    }
   ],
   "source": [
    "import numpy as np\n",
    "import matplotlib.pyplot as plt\n",
    "import pandas as pd\n",
    "import tabulate as tabulate\n",
    "import matplotlib.colors as mcolors\n",
    "from IPython.core.display import HTML\n",
    "from tabulate import tabulate\n",
    "from bs4 import BeautifulSoup\n",
    "import requests\n",
    "import re\n",
    "from scipy.stats import bootstrap\n",
    "from IPython.display import display, HTML\n",
    "display(HTML(\"<style>.container { width:90% !important; }</style>\"))"
   ]
  },
  {
   "cell_type": "code",
   "execution_count": 2,
   "metadata": {},
   "outputs": [],
   "source": [
    "models =[\"ACCESS-CM2\", \"ACCESS-ESM1\", \"CESM2-WACCM\", \"CNRM-CM6-1\", \"CNRM-CM6-1-HR\", \"CNRM-ESM2-1\", \n",
    "         \"GFDL-CM4\", \"GFDL-ESM4\",\"HadGEM3-GC31-LL\", \"INM-CM4-8\", \"INM-CM5-0\", \"IPSL-CM6A-LR\", \"MIROC6\", \n",
    "         \"MPI-ESM1-2-HR\", \"MPI-ESM1-2-LR\", \"MRI-ESM2-0\", \"NorESM2-MM\", \"UKESM1-0-LL\"]"
   ]
  },
  {
   "cell_type": "code",
   "execution_count": null,
   "metadata": {},
   "outputs": [],
   "source": [
    "\n",
    "data = np.loadtxt()  # samples must be in a sequence\n",
    "res = bootstrap(data, np.std, confidence_level=0.9,\n",
    "                random_state=rng)"
   ]
  },
  {
   "cell_type": "code",
   "execution_count": null,
   "metadata": {},
   "outputs": [],
   "source": []
  },
  {
   "cell_type": "code",
   "execution_count": null,
   "metadata": {},
   "outputs": [],
   "source": []
  },
  {
   "cell_type": "code",
   "execution_count": null,
   "metadata": {},
   "outputs": [],
   "source": []
  }
 ],
 "metadata": {
  "kernelspec": {
   "display_name": "Python 3",
   "language": "python",
   "name": "python3"
  },
  "language_info": {
   "codemirror_mode": {
    "name": "ipython",
    "version": 3
   },
   "file_extension": ".py",
   "mimetype": "text/x-python",
   "name": "python",
   "nbconvert_exporter": "python",
   "pygments_lexer": "ipython3",
   "version": "3.8.7"
  }
 },
 "nbformat": 4,
 "nbformat_minor": 4
}

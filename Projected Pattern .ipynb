{
 "cells": [
  {
   "cell_type": "code",
   "execution_count": 2,
   "metadata": {},
   "outputs": [],
   "source": [
    "import numpy as np\n",
    "import pandas as pd"
   ]
  },
  {
   "cell_type": "code",
   "execution_count": 3,
   "metadata": {},
   "outputs": [
    {
     "data": {
      "text/html": [
       "<style>.container { width:90% !important; }</style>"
      ],
      "text/plain": [
       "<IPython.core.display.HTML object>"
      ]
     },
     "metadata": {},
     "output_type": "display_data"
    }
   ],
   "source": [
    "from IPython.display import display, HTML\n",
    "display(HTML(\"<style>.container { width:90% !important; }</style>\"))"
   ]
  },
  {
   "cell_type": "code",
   "execution_count": 5,
   "metadata": {},
   "outputs": [
    {
     "name": "stdout",
     "output_type": "stream",
     "text": [
      "[[  88.84188053 -160.92246049   36.99943831    9.74555867  -14.53695656\n",
      "     7.44978309   -2.25778659    2.90182481  -11.79433211   -4.07851656]\n",
      " [ -84.3587891    97.59650171  127.19305157  -27.67021074  -12.21063085\n",
      "   -25.64953888    2.40664301    1.8967219    -2.57614567    2.28261305]\n",
      " [-215.989919    -63.89936063  -46.04418021   34.51459091    1.85002389\n",
      "     6.8932661   -18.779589     -1.83566077   11.89356712   -0.2932087 ]\n",
      " [ 194.28269269   89.17832349    1.07877926   55.16553153   16.4651604\n",
      "    18.38366437  -10.13544664    5.43256421   12.1470011     3.64234792]\n",
      " [  15.64659829   53.94719855 -147.55367102  -72.56587934   12.93403398\n",
      "    -5.11012455   30.04291423   -9.46974679   -7.73492218   -1.22895377]]\n",
      "future\n",
      "(5520,)\n",
      "(5520,)\n",
      "(5520,)\n",
      "(5520,)\n",
      "(5520,)\n",
      "(5520,)\n",
      "(5520,)\n",
      "(5520,)\n",
      "(5400,)\n",
      "(5520,)\n",
      "(5520,)\n",
      "(5520,)\n",
      "(5400,)\n",
      "(5520,)\n",
      "(5520,)\n",
      "(5520,)\n",
      "(5520,)\n",
      "(5520,)\n",
      "(5520,)\n",
      "(5400,)\n"
     ]
    }
   ],
   "source": [
    "AREA=\"0_360_89.7849_49.3208\"\n",
    "\n",
    "seas=[31,28,31,30,31,30,31,31,30,31,30,31]\n",
    "months=np.array([5,6,7,8,9,10])#np.arange(1,9,1)\n",
    "saison=\"mjjaso\"#\n",
    "zusatz=\".North\"\n",
    "mode='future'\n",
    "scenario=\"\"\n",
    "cluster=5\n",
    "if mode=='future':\n",
    "    years=np.arange(2070,2100,1)\n",
    "else:\n",
    "    years=np.arange(1985,2014,1) #verändern\n",
    "centers = np.loadtxt(r'N:/atm_glomod/user/jomuel001/CMIP6_models/ERA5/AREA.'+AREA+r'/CLUSTER/KMEANSslp_hpa_ERA5_1985-2014_'+saison+'_atrbg_aacrm21_remapbnds_unnorm_'+str(cluster)+'cluster_10PC_center.unnorm',usecols=range(1, 11), delimiter=' ',skiprows=0)\n",
    "print(centers)\n",
    "if scenario==\"_ssp2\":\n",
    "   # models =[\"KACE-1-0-G\", \"MIROC-ES2L\", \"NESM3\", \"NorESM2-LM\"]\n",
    "    models= [\"ACCESS-CM2\", \"ACCESS-ESM1\", \"CESM2-WACCM\", \"CNRM-CM6-1\", \"CNRM-CM6-1-HR\", \"CNRM-ESM2-1\", #ssp5,2\n",
    "         \"GFDL-CM4\", \"GFDL-ESM4\",\"HadGEM3-GC31-LL\", \"INM-CM4-8\", \"INM-CM5-0\", \"IPSL-CM6A-LR\", \"MIROC6\", \n",
    "         \"MPI-ESM1-2-HR\", \"MPI-ESM1-2-LR\", \"MRI-ESM2-0\", \"NorESM2-MM\", \"UKESM1-0-LL\"]\n",
    "elif scenario==\"\":\n",
    "    #models=[\"KACE-1-0-G\", \"MIROC-ES2L\"]\n",
    "    models =[\"ACCESS-CM2\", \"ACCESS-ESM1\", \"CESM2-WACCM\", \"CNRM-CM6-1\", \"CNRM-CM6-1-HR\", \"CNRM-ESM2-1\", #ssp5,2\n",
    "         \"GFDL-CM4\", \"GFDL-ESM4\",\"HadGEM3-GC31-LL\", \"INM-CM4-8\", \"INM-CM5-0\", \"IPSL-CM6A-LR\",\"KACE-1-0-G\", \"MIROC6\", \"MIROC-ES2L\",\n",
    "         \"MPI-ESM1-2-HR\", \"MPI-ESM1-2-LR\", \"MRI-ESM2-0\", \"NorESM2-MM\", \"UKESM1-0-LL\"]\n",
    "elif scenario==\"_ssp1\":\n",
    "    #models= [\"KACE-1-0-G\", \"MIROC-ES2L\", \"NESM3\", \"NorESM2-LM\"]\n",
    "    models=[\"ACCESS-CM2\", \"ACCESS-ESM1\", \"CESM2-WACCM\", \"CNRM-CM6-1\", \"CNRM-CM6-1-HR\", \"CNRM-ESM2-1\", #ssp1\n",
    "          \"GFDL-ESM4\",\"HadGEM3-GC31-LL\", \"INM-CM4-8\", \"INM-CM5-0\", \"IPSL-CM6A-LR\", \"MIROC6\", \n",
    "         \"MPI-ESM1-2-HR\", \"MPI-ESM1-2-LR\", \"MRI-ESM2-0\", \"NorESM2-MM\", \"UKESM1-0-LL\"]\n",
    "elif scenario==\"_ssp3\":\n",
    "    #models = [\"KACE-1-0-G\", \"MIROC-ES2L\", \"NorESM2-LM\"]\n",
    "    [\"ACCESS-CM2\", \"ACCESS-ESM1\", \"CESM2-WACCM\", \"CNRM-CM6-1\", \"CNRM-CM6-1-HR\", \"CNRM-ESM2-1\",  #ssp3\n",
    "          \"GFDL-ESM4\", \"INM-CM4-8\", \"INM-CM5-0\", \"IPSL-CM6A-LR\", \"MIROC6\",  \"MPI-ESM1-2-LR\", \"MRI-ESM2-0\", \"UKESM1-0-LL\"]\n",
    "elif scenario==\"hist\":\n",
    "   #models=[\"KACE-1-0-G\", \"MIROC-ES2L\"]\n",
    "    models = [\"ACCESS-CM2\", \"ACCESS-ESM1\", \"CESM2-WACCM\", \"CNRM-CM6-1\", \"CNRM-CM6-1-HR\", \"CNRM-ESM2-1\", #ssp5,2\n",
    "         \"GFDL-CM4\", \"GFDL-ESM4\",\"HadGEM3-GC31-LL\", \"INM-CM4-8\", \"INM-CM5-0\", \"IPSL-CM6A-LR\", \"KACE-1-0-G\", \"MIROC6\", \"MIROC-ES2L\", \n",
    "         \"MPI-ESM1-2-HR\", \"MPI-ESM1-2-LR\", \"MRI-ESM2-0\", \"NorESM2-MM\", \"UKESM1-0-LL\"]\n",
    "    scenario=\"\"\n",
    "#\n",
    "    #models=[\"KACE-1-0-G\", \"MIROC-ES2L\", \"NESM3\", \"NorESM2-LM\"]\n",
    "if mode=='future':\n",
    "    year_zusatz = \"2070-2099\"+zusatz+\"_\"+saison+\"_atrbg_aacHrm21\" #arctic Nord sonst N\n",
    "    print(\"future\")\n",
    "else:\n",
    "    year_zusatz = \"1985-2014\"+zusatz+\"_\"+saison+\"_atrbg_aacrm21\" #hier auch arctic nord sonst N\n",
    "def distance(center,array):\n",
    "    result = np.zeros(len(array))\n",
    "    for i in range(len(array)):\n",
    "        result[i]=np.linalg.norm(array[i]-center)\n",
    "    return result\n",
    "def scientific_to_standard(num_string):\n",
    "    return float(num_string.replace('E+', '1e'))\n",
    "\n",
    "for model in models:\n",
    "    try:\n",
    "        #pc = pd.read_csv(,sep=\"\\t\",header=None)\n",
    "        with open(r'N:/atm_glomod/user/jomuel001/CMIP6_models/'+model+r'/AREA.'+AREA+r'/EOF/PCslp_hpa'+scenario+'_'+model+'_'+year_zusatz+r'_remapbnds_proj_on_EOF_ERA51985-2014slp_hpa_ERA5_1985-2014_'+saison+'_atrbg_aacrm21_remapbnds_cos_cov_svd_unnorm', 'r') as file:\n",
    "            contents = file.read().split()\n",
    "            arr =np.array([float(item) for item in contents])\n",
    "            pc = arr.reshape((-1, 10))\n",
    "        data = {'dist_cl1': distance(centers[0],pc),\n",
    "            'dist_cl2': distance(centers[1],pc),\n",
    "            'dist_cl3': distance(centers[2],pc),\n",
    "            'dist_cl4': distance(centers[3],pc),#\n",
    "            'dist_cl5': distance(centers[4],pc)}\n",
    "     #       'dist_cl6': distance(centers[5],pc)}\n",
    "    #         'dist_cl7': distance(centers[6],pc),#\n",
    "    #         'dist_cl8': distance(centers[7],pc),\n",
    "    #         'dist_cl9': distance(centers[8],pc)}\n",
    "        print(np.shape(data['dist_cl1']))\n",
    "        tag=0\n",
    "        tage_1=[]\n",
    "        tage_2=[]\n",
    "        tage_3=[]\n",
    "        tage_4=[]\n",
    "        tage_5=[]\n",
    "    #    tage_6=[]\n",
    "    #     tage_7=[]\n",
    "    #     tage_8=[]\n",
    "    #     tage_9=[]\n",
    "        #null=np.array([0])\n",
    "        #np.savetxt(r'N:/atm_glomod/user/jomuel001/CMIP6_models/'+model+r'/AREA.'+AREA+r'/CLUSTER/KMEANSslp_hpa'+scenario+'_'+model+'_'+year_zusatz+'_remapbnds_proj_on_EOF_ERA51985-2014slp_hpa_ERA5_1985-2014_'+saison+'_atrbg_aacrm21_remapbnds_unnorm_projectedpattern_6tabcluster_10tabPC_dates', null)\n",
    "        # Ensure the directory structure exists, creating any missing directories\n",
    "        #os.makedirs(file_path, exist_ok=True)\n",
    "        with open(r'N:/atm_glomod/user/jomuel001/CMIP6_models/'+model+r'/AREA.'+AREA+r'/CLUSTER/KMEANSslp_hpa'+scenario+'_'+model+'_'+year_zusatz+'_remapbnds_proj_on_EOF_ERA51985-2014slp_hpa_ERA5_1985-2014_'+saison+'_atrbg_aacrm21_remapbnds_unnorm_projectedpattern_'+str(cluster)+'tabcluster_10tabPC_dates', 'w') as f:\n",
    "            try:\n",
    "                for year in years:\n",
    "                    for month in months: \n",
    "                        for day in range(1,seas[month-1]+1):\n",
    "                            try:\n",
    "                                distances_tag = np.array([data['dist_cl1'][tag], data['dist_cl2'][tag], data['dist_cl3'][tag], data['dist_cl4'][tag], data['dist_cl5'][tag]])#, data['dist_cl6'][tag]])# data['dist_cl7'][tag], data['dist_cl8'][tag], data['dist_cl9'][tag]])\n",
    "                                minimum_index = np.argmin(distances_tag)\n",
    "                                #print(distances_tag)\n",
    "                            except:\n",
    "                                minimum_index = -1\n",
    "                            write_array = np.array([year, month, day, minimum_index+1,0,0])\n",
    "                            f.write(' '.join(map(str, write_array)))\n",
    "                            f.write('\\n')\n",
    "                            if minimum_index+1==1:\n",
    "                                tage_1.append(int(tag))\n",
    "                            elif minimum_index+1==2:\n",
    "                                tage_2.append(int(tag))\n",
    "                            elif minimum_index+1==3:\n",
    "                                tage_3.append(int(tag))\n",
    "                            elif minimum_index+1==4:\n",
    "                                tage_4.append(int(tag))\n",
    "                            elif minimum_index+1==5: \n",
    "                                tage_5.append(int(tag))\n",
    "#                #             elif minimum_index+1==6: \n",
    "#              #                tage_6.append(int(tag))\n",
    "    #                         elif minimum_index+1==7:\n",
    "    #                             tage_7.append(int(tag))\n",
    "    #                         elif minimum_index+1==8: \n",
    "    #                             tage_8.append(int(tag))\n",
    "    #                         elif minimum_index+1==9: \n",
    "    #                             tage_9.append(int(tag))\n",
    "                            else:\n",
    "                                continue\n",
    "                            tag+=1\n",
    "            except:\n",
    "                print(\"fehlen bei \"+model+\" 120 tage\")\n",
    "        tage_1=np.array(tage_1)\n",
    "        tage_2=np.array(tage_2)\n",
    "        tage_3=np.array(tage_3)\n",
    "        tage_4=np.array(tage_4)\n",
    "        tage_5=np.array(tage_5)\n",
    "      #  tage_6=np.array(tage_6)\n",
    "    #     tage_7=np.array(tage_7)\n",
    "    #     tage_8=np.array(tage_8)\n",
    "    #     tage_9=np.array(tage_9)\n",
    "        np.savetxt('N:/atm_glomod/user/jomuel001/CMIP6_models/'+model+r'/AREA.'+AREA+r'/CLUSTER/KMEANSslp_hpa'+scenario+'_'+model+'_'+year_zusatz+'_remapbnds_proj_on_EOF_ERA51985-2014slp_hpa_ERA5_1985-2014_'+saison+'_atrbg_aacrm21_remapbnds_unnorm_projectedpattern_'+str(cluster)+'cluster_10PC_cl1_dates', tage_1,fmt='%d')\n",
    "        np.savetxt('N:/atm_glomod/user/jomuel001/CMIP6_models/'+model+r'/AREA.'+AREA+r'/CLUSTER/KMEANSslp_hpa'+scenario+'_'+model+'_'+year_zusatz+'_remapbnds_proj_on_EOF_ERA51985-2014slp_hpa_ERA5_1985-2014_'+saison+'_atrbg_aacrm21_remapbnds_unnorm_projectedpattern_'+str(cluster)+'cluster_10PC_cl2_dates', tage_2,fmt='%d')\n",
    "        np.savetxt('N:/atm_glomod/user/jomuel001/CMIP6_models/'+model+r'/AREA.'+AREA+r'/CLUSTER/KMEANSslp_hpa'+scenario+'_'+model+'_'+year_zusatz+'_remapbnds_proj_on_EOF_ERA51985-2014slp_hpa_ERA5_1985-2014_'+saison+'_atrbg_aacrm21_remapbnds_unnorm_projectedpattern_'+str(cluster)+'cluster_10PC_cl3_dates', tage_3,fmt='%d')\n",
    "        np.savetxt('N:/atm_glomod/user/jomuel001/CMIP6_models/'+model+r'/AREA.'+AREA+r'/CLUSTER/KMEANSslp_hpa'+scenario+'_'+model+'_'+year_zusatz+'_remapbnds_proj_on_EOF_ERA51985-2014slp_hpa_ERA5_1985-2014_'+saison+'_atrbg_aacrm21_remapbnds_unnorm_projectedpattern_'+str(cluster)+'cluster_10PC_cl4_dates', tage_4,fmt='%d')\n",
    "        np.savetxt('N:/atm_glomod/user/jomuel001/CMIP6_models/'+model+r'/AREA.'+AREA+r'/CLUSTER/KMEANSslp_hpa'+scenario+'_'+model+'_'+year_zusatz+'_remapbnds_proj_on_EOF_ERA51985-2014slp_hpa_ERA5_1985-2014_'+saison+'_atrbg_aacrm21_remapbnds_unnorm_projectedpattern_'+str(cluster)+'cluster_10PC_cl5_dates', tage_5,fmt='%d')\n",
    "     #   np.savetxt('N:/atm_glomod/user/jomuel001/CMIP6_models/'+model+r'/AREA.'+AREA+r'/CLUSTER/KMEANSslp_hpa'+scenario+'_'+model+'_'+year_zusatz+'_remapbnds_proj_on_EOF_ERA51985-2014slp_hpa_ERA5_1985-2014_'+saison+'_atrbg_aacrm21_remapbnds_unnorm_projectedpattern_'+str(cluster)+'cluster_10PC_cl6_dates', tage_6,fmt='%d') \n",
    "    #     np.savetxt('N:/atm_glomod/user/jomuel001/CMIP6_models/'+model+r'/AREA.'+AREA+r'/CLUSTER/KMEANSslp_hpa'+scenario+'_'+model+'_'+year_zusatz+'_remapbnds_proj_on_EOF_ERA51985-2014slp_hpa_ERA5_1985-2014_'+saison+'_atrbg_aacrm21_remapbnds_unnorm_projectedpattern_9cluster_10PC_cl7_dates', tage_7,fmt='%d')\n",
    "    #     np.savetxt('N:/atm_glomod/user/jomuel001/CMIP6_models/'+model+r'/AREA.'+AREA+r'/CLUSTER/KMEANSslp_hpa'+scenario+'_'+model+'_'+year_zusatz+'_remapbnds_proj_on_EOF_ERA51985-2014slp_hpa_ERA5_1985-2014_'+saison+'_atrbg_aacrm21_remapbnds_unnorm_projectedpattern_9cluster_10PC_cl8_dates', tage_8,fmt='%d')\n",
    "    #     np.savetxt('N:/atm_glomod/user/jomuel001/CMIP6_models/'+model+r'/AREA.'+AREA+r'/CLUSTER/KMEANSslp_hpa'+scenario+'_'+model+'_'+year_zusatz+'_remapbnds_proj_on_EOF_ERA51985-2014slp_hpa_ERA5_1985-2014_'+saison+'_atrbg_aacrm21_remapbnds_unnorm_projectedpattern_9cluster_10PC_cl9_dates', tage_9,fmt='%d'\n",
    "    except:\n",
    "            print(\"bei model \"+model+\" hat es nicht geklappt\")"
   ]
  },
  {
   "cell_type": "code",
   "execution_count": 15,
   "metadata": {},
   "outputs": [
    {
     "data": {
      "text/plain": [
       "-1"
      ]
     },
     "execution_count": 15,
     "metadata": {},
     "output_type": "execute_result"
    }
   ],
   "source": [
    "minimum_index"
   ]
  },
  {
   "cell_type": "code",
   "execution_count": null,
   "metadata": {},
   "outputs": [],
   "source": []
  },
  {
   "cell_type": "code",
   "execution_count": null,
   "metadata": {},
   "outputs": [],
   "source": []
  },
  {
   "cell_type": "code",
   "execution_count": null,
   "metadata": {},
   "outputs": [],
   "source": []
  }
 ],
 "metadata": {
  "kernelspec": {
   "display_name": "Python 3",
   "language": "python",
   "name": "python3"
  },
  "language_info": {
   "codemirror_mode": {
    "name": "ipython",
    "version": 3
   },
   "file_extension": ".py",
   "mimetype": "text/x-python",
   "name": "python",
   "nbconvert_exporter": "python",
   "pygments_lexer": "ipython3",
   "version": "3.8.7"
  }
 },
 "nbformat": 4,
 "nbformat_minor": 4
}

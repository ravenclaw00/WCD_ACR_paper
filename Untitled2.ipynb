{
 "cells": [
  {
   "cell_type": "code",
   "execution_count": 18,
   "id": "198c2f35",
   "metadata": {},
   "outputs": [
    {
     "name": "stdout",
     "output_type": "stream",
     "text": [
      "[-1.99527676e-04 -1.75990604e-04  5.25893150e-05 -3.46318067e-06\n",
      " -4.21901802e-05  1.46500085e-05  3.09720711e-06 -8.41602177e-05\n",
      " -1.10701419e-04 -1.60619905e-04 -1.70250084e-04 -6.23226330e-05\n",
      " -2.44367781e-04 -5.63808255e-05  9.45908163e-05  5.17188927e-05\n",
      "  6.93401264e-05 -5.93976717e-05]\n",
      "-6.018810061974198e-05\n"
     ]
    }
   ],
   "source": [
    "import netCDF4 as nc\n",
    "import numpy as np\n",
    "models =[\"ACCESS-CM2\", \"ACCESS-ESM1\", \"CESM2-WACCM\", \"CNRM-CM6-1\", \"CNRM-CM6-1-HR\", \"CNRM-ESM2-1\", #ssp5,2\n",
    "         \"GFDL-CM4\", \"GFDL-ESM4\",\"HadGEM3-GC31-LL\", \"INM-CM4-8\", \"INM-CM5-0\", \"IPSL-CM6A-LR\", \"MIROC6\", \n",
    "         \"MPI-ESM1-2-HR\", \"MPI-ESM1-2-LR\", \"MRI-ESM2-0\", \"NorESM2-MM\", \"UKESM1-0-LL\"]\n",
    "steigung=np.zeros(len(models))\n",
    "i=0\n",
    "for model in models:\n",
    "    file_path = r'N:/atm_glomod/user/jomuel001/CMIP6_models/'+model+r'/slp_hpa_'+model+'_1985-2014.Nor_btrend'  # Replace with the path to your .nc file\n",
    "    dataset = nc.Dataset(file_path, 'r')  # 'r' stands for read mode\n",
    "    # Access variables and attributes\n",
    "    # For example, let's assume there's a variable called 'temperature' in the NetCDF file:\n",
    "    data = dataset.variables['psl'] \n",
    "    steigung[i]=data[0,0,0]\n",
    "    i+=1\n",
    "print(steigung)\n",
    "print(np.mean(steigung))"
   ]
  }
 ],
 "metadata": {
  "kernelspec": {
   "display_name": "Python 3 (ipykernel)",
   "language": "python",
   "name": "python3"
  },
  "language_info": {
   "codemirror_mode": {
    "name": "ipython",
    "version": 3
   },
   "file_extension": ".py",
   "mimetype": "text/x-python",
   "name": "python",
   "nbconvert_exporter": "python",
   "pygments_lexer": "ipython3",
   "version": "3.11.0"
  }
 },
 "nbformat": 4,
 "nbformat_minor": 5
}
